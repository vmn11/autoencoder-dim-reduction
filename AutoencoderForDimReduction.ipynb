{
  "nbformat": 4,
  "nbformat_minor": 0,
  "metadata": {
    "colab": {
      "provenance": [],
      "gpuType": "T4"
    },
    "kernelspec": {
      "name": "python3",
      "display_name": "Python 3"
    },
    "language_info": {
      "name": "python"
    },
    "accelerator": "GPU"
  },
  "cells": [
    {
      "cell_type": "code",
      "execution_count": 1,
      "metadata": {
        "id": "iXuetzLHcK4-"
      },
      "outputs": [],
      "source": [
        "import pandas as pd\n",
        "import numpy as np\n",
        "import tensorflow as tf\n",
        "from sklearn.model_selection import train_test_split\n",
        "from sklearn.preprocessing import MinMaxScaler\n",
        "from sklearn.datasets import make_classification"
      ]
    },
    {
      "cell_type": "code",
      "source": [
        "# create a dataset\n",
        "X, y = make_classification(\n",
        "    n_samples=10000,\n",
        "    n_features=500,\n",
        "    n_classes=2,\n",
        "    n_informative=10,\n",
        "    random_state=42\n",
        ")"
      ],
      "metadata": {
        "id": "9E2vfOZSrCNP"
      },
      "execution_count": 2,
      "outputs": []
    },
    {
      "cell_type": "code",
      "source": [
        "# create train and test splits\n",
        "X_train, X_test, y_train, y_test = train_test_split(\n",
        "    X,\n",
        "    y,\n",
        "    test_size=0.2,\n",
        "    stratify=y,\n",
        "    random_state=42\n",
        ")"
      ],
      "metadata": {
        "id": "ALPz_ahTWHyG"
      },
      "execution_count": 3,
      "outputs": []
    },
    {
      "cell_type": "code",
      "source": [
        "# scale the data\n",
        "scaler = MinMaxScaler().fit(X_train)\n",
        "X_train = scaler.transform(X_train)\n",
        "X_test = scaler.transform(X_test)"
      ],
      "metadata": {
        "id": "2Jx0hX9fZPu8"
      },
      "execution_count": 4,
      "outputs": []
    },
    {
      "cell_type": "code",
      "source": [
        "class AutoEncoder(tf.keras.Model):\n",
        "  def __init__(self, n_features, latent_dim):\n",
        "    super().__init__()\n",
        "    self.n_features = n_features\n",
        "    self.latent_dim = latent_dim\n",
        "    self.encoder = tf.keras.Sequential([\n",
        "        tf.keras.layers.Dense(4096, activation='relu'),\n",
        "        tf.keras.layers.Dense(2048, activation='relu'),\n",
        "        tf.keras.layers.Dense(1024, activation='relu'),\n",
        "        tf.keras.layers.Dense(512, activation='relu'),\n",
        "        tf.keras.layers.Dense(latent_dim, activation='relu')\n",
        "    ])\n",
        "    self.decoder = tf.keras.Sequential([\n",
        "        tf.keras.layers.Dense(512, activation='relu'),\n",
        "        tf.keras.layers.Dense(1024, activation='relu'),\n",
        "        tf.keras.layers.Dense(2048, activation='relu'),\n",
        "        tf.keras.layers.Dense(4096, activation='relu'),\n",
        "        tf.keras.layers.Dense(n_features, activation='sigmoid')\n",
        "    ])\n",
        "\n",
        "  def call(self, inputs):\n",
        "    encoded = self.encoder(inputs)\n",
        "    return self.decoder(encoded)\n",
        "\n",
        "  def reduce_dim_with_encoder(self, inputs):\n",
        "    return self.encoder(inputs)"
      ],
      "metadata": {
        "id": "W_SNk47OjWIV"
      },
      "execution_count": 5,
      "outputs": []
    },
    {
      "cell_type": "code",
      "source": [
        "# get number of features and define size of latent space\n",
        "n_features = X.shape[1]\n",
        "latent_space_dim = 10"
      ],
      "metadata": {
        "id": "CAWsO8R-jgF9"
      },
      "execution_count": 6,
      "outputs": []
    },
    {
      "cell_type": "code",
      "source": [
        "model = AutoEncoder(n_features, latent_space_dim)\n",
        "\n",
        "model.compile(optimizer='adam', loss='mae', metrics=['mae'])\n",
        "\n",
        "model.fit(\n",
        "    x=X_train,\n",
        "    y=X_train,\n",
        "    batch_size=256,\n",
        "    epochs=50,\n",
        "    validation_data=(X_test, X_test)\n",
        ")"
      ],
      "metadata": {
        "colab": {
          "base_uri": "https://localhost:8080/"
        },
        "id": "Tv6ocUjYjWK4",
        "outputId": "b0c293e7-3384-4d47-d697-679f1273cfa8"
      },
      "execution_count": 7,
      "outputs": [
        {
          "output_type": "stream",
          "name": "stdout",
          "text": [
            "Epoch 1/50\n",
            "32/32 [==============================] - 15s 35ms/step - loss: 0.1060 - mae: 0.1060 - val_loss: 0.1054 - val_mae: 0.1054\n",
            "Epoch 2/50\n",
            "32/32 [==============================] - 1s 16ms/step - loss: 0.1054 - mae: 0.1054 - val_loss: 0.1054 - val_mae: 0.1054\n",
            "Epoch 3/50\n",
            "32/32 [==============================] - 1s 16ms/step - loss: 0.1054 - mae: 0.1054 - val_loss: 0.1054 - val_mae: 0.1054\n",
            "Epoch 4/50\n",
            "32/32 [==============================] - 1s 16ms/step - loss: 0.1054 - mae: 0.1054 - val_loss: 0.1054 - val_mae: 0.1054\n",
            "Epoch 5/50\n",
            "32/32 [==============================] - 1s 17ms/step - loss: 0.1054 - mae: 0.1054 - val_loss: 0.1054 - val_mae: 0.1054\n",
            "Epoch 6/50\n",
            "32/32 [==============================] - 1s 17ms/step - loss: 0.1054 - mae: 0.1054 - val_loss: 0.1054 - val_mae: 0.1054\n",
            "Epoch 7/50\n",
            "32/32 [==============================] - 0s 15ms/step - loss: 0.1054 - mae: 0.1054 - val_loss: 0.1054 - val_mae: 0.1054\n",
            "Epoch 8/50\n",
            "32/32 [==============================] - 1s 17ms/step - loss: 0.1054 - mae: 0.1054 - val_loss: 0.1054 - val_mae: 0.1054\n",
            "Epoch 9/50\n",
            "32/32 [==============================] - 1s 16ms/step - loss: 0.1054 - mae: 0.1054 - val_loss: 0.1054 - val_mae: 0.1054\n",
            "Epoch 10/50\n",
            "32/32 [==============================] - 1s 16ms/step - loss: 0.1054 - mae: 0.1054 - val_loss: 0.1054 - val_mae: 0.1054\n",
            "Epoch 11/50\n",
            "32/32 [==============================] - 1s 16ms/step - loss: 0.1054 - mae: 0.1054 - val_loss: 0.1054 - val_mae: 0.1054\n",
            "Epoch 12/50\n",
            "32/32 [==============================] - 1s 16ms/step - loss: 0.1054 - mae: 0.1054 - val_loss: 0.1054 - val_mae: 0.1054\n",
            "Epoch 13/50\n",
            "32/32 [==============================] - 1s 16ms/step - loss: 0.1054 - mae: 0.1054 - val_loss: 0.1054 - val_mae: 0.1054\n",
            "Epoch 14/50\n",
            "32/32 [==============================] - 1s 17ms/step - loss: 0.1054 - mae: 0.1054 - val_loss: 0.1054 - val_mae: 0.1054\n",
            "Epoch 15/50\n",
            "32/32 [==============================] - 1s 17ms/step - loss: 0.1054 - mae: 0.1054 - val_loss: 0.1054 - val_mae: 0.1054\n",
            "Epoch 16/50\n",
            "32/32 [==============================] - 1s 16ms/step - loss: 0.1054 - mae: 0.1054 - val_loss: 0.1054 - val_mae: 0.1054\n",
            "Epoch 17/50\n",
            "32/32 [==============================] - 1s 16ms/step - loss: 0.1054 - mae: 0.1054 - val_loss: 0.1054 - val_mae: 0.1054\n",
            "Epoch 18/50\n",
            "32/32 [==============================] - 1s 16ms/step - loss: 0.1054 - mae: 0.1054 - val_loss: 0.1054 - val_mae: 0.1054\n",
            "Epoch 19/50\n",
            "32/32 [==============================] - 1s 17ms/step - loss: 0.1054 - mae: 0.1054 - val_loss: 0.1054 - val_mae: 0.1054\n",
            "Epoch 20/50\n",
            "32/32 [==============================] - 1s 16ms/step - loss: 0.1054 - mae: 0.1054 - val_loss: 0.1054 - val_mae: 0.1054\n",
            "Epoch 21/50\n",
            "32/32 [==============================] - 1s 19ms/step - loss: 0.1054 - mae: 0.1054 - val_loss: 0.1054 - val_mae: 0.1054\n",
            "Epoch 22/50\n",
            "32/32 [==============================] - 1s 18ms/step - loss: 0.1054 - mae: 0.1054 - val_loss: 0.1054 - val_mae: 0.1054\n",
            "Epoch 23/50\n",
            "32/32 [==============================] - 1s 18ms/step - loss: 0.1054 - mae: 0.1054 - val_loss: 0.1054 - val_mae: 0.1054\n",
            "Epoch 24/50\n",
            "32/32 [==============================] - 1s 19ms/step - loss: 0.1054 - mae: 0.1054 - val_loss: 0.1054 - val_mae: 0.1054\n",
            "Epoch 25/50\n",
            "32/32 [==============================] - 1s 17ms/step - loss: 0.1053 - mae: 0.1053 - val_loss: 0.1054 - val_mae: 0.1054\n",
            "Epoch 26/50\n",
            "32/32 [==============================] - 1s 16ms/step - loss: 0.1054 - mae: 0.1054 - val_loss: 0.1054 - val_mae: 0.1054\n",
            "Epoch 27/50\n",
            "32/32 [==============================] - 1s 17ms/step - loss: 0.1054 - mae: 0.1054 - val_loss: 0.1054 - val_mae: 0.1054\n",
            "Epoch 28/50\n",
            "32/32 [==============================] - 1s 16ms/step - loss: 0.1054 - mae: 0.1054 - val_loss: 0.1054 - val_mae: 0.1054\n",
            "Epoch 29/50\n",
            "32/32 [==============================] - 1s 16ms/step - loss: 0.1054 - mae: 0.1054 - val_loss: 0.1054 - val_mae: 0.1054\n",
            "Epoch 30/50\n",
            "32/32 [==============================] - 1s 16ms/step - loss: 0.1053 - mae: 0.1053 - val_loss: 0.1054 - val_mae: 0.1054\n",
            "Epoch 31/50\n",
            "32/32 [==============================] - 0s 15ms/step - loss: 0.1053 - mae: 0.1053 - val_loss: 0.1054 - val_mae: 0.1054\n",
            "Epoch 32/50\n",
            "32/32 [==============================] - 1s 16ms/step - loss: 0.1053 - mae: 0.1053 - val_loss: 0.1054 - val_mae: 0.1054\n",
            "Epoch 33/50\n",
            "32/32 [==============================] - 1s 16ms/step - loss: 0.1053 - mae: 0.1053 - val_loss: 0.1054 - val_mae: 0.1054\n",
            "Epoch 34/50\n",
            "32/32 [==============================] - 1s 16ms/step - loss: 0.1053 - mae: 0.1053 - val_loss: 0.1054 - val_mae: 0.1054\n",
            "Epoch 35/50\n",
            "32/32 [==============================] - 1s 17ms/step - loss: 0.1053 - mae: 0.1053 - val_loss: 0.1054 - val_mae: 0.1054\n",
            "Epoch 36/50\n",
            "32/32 [==============================] - 1s 16ms/step - loss: 0.1053 - mae: 0.1053 - val_loss: 0.1054 - val_mae: 0.1054\n",
            "Epoch 37/50\n",
            "32/32 [==============================] - 1s 17ms/step - loss: 0.1053 - mae: 0.1053 - val_loss: 0.1054 - val_mae: 0.1054\n",
            "Epoch 38/50\n",
            "32/32 [==============================] - 1s 17ms/step - loss: 0.1053 - mae: 0.1053 - val_loss: 0.1054 - val_mae: 0.1054\n",
            "Epoch 39/50\n",
            "32/32 [==============================] - 1s 17ms/step - loss: 0.1053 - mae: 0.1053 - val_loss: 0.1054 - val_mae: 0.1054\n",
            "Epoch 40/50\n",
            "32/32 [==============================] - 1s 17ms/step - loss: 0.1053 - mae: 0.1053 - val_loss: 0.1054 - val_mae: 0.1054\n",
            "Epoch 41/50\n",
            "32/32 [==============================] - 1s 16ms/step - loss: 0.1053 - mae: 0.1053 - val_loss: 0.1054 - val_mae: 0.1054\n",
            "Epoch 42/50\n",
            "32/32 [==============================] - 1s 16ms/step - loss: 0.1053 - mae: 0.1053 - val_loss: 0.1054 - val_mae: 0.1054\n",
            "Epoch 43/50\n",
            "32/32 [==============================] - 1s 17ms/step - loss: 0.1053 - mae: 0.1053 - val_loss: 0.1054 - val_mae: 0.1054\n",
            "Epoch 44/50\n",
            "32/32 [==============================] - 1s 17ms/step - loss: 0.1053 - mae: 0.1053 - val_loss: 0.1054 - val_mae: 0.1054\n",
            "Epoch 45/50\n",
            "32/32 [==============================] - 1s 18ms/step - loss: 0.1053 - mae: 0.1053 - val_loss: 0.1054 - val_mae: 0.1054\n",
            "Epoch 46/50\n",
            "32/32 [==============================] - 1s 18ms/step - loss: 0.1053 - mae: 0.1053 - val_loss: 0.1054 - val_mae: 0.1054\n",
            "Epoch 47/50\n",
            "32/32 [==============================] - 1s 17ms/step - loss: 0.1053 - mae: 0.1053 - val_loss: 0.1054 - val_mae: 0.1054\n",
            "Epoch 48/50\n",
            "32/32 [==============================] - 1s 17ms/step - loss: 0.1053 - mae: 0.1053 - val_loss: 0.1054 - val_mae: 0.1054\n",
            "Epoch 49/50\n",
            "32/32 [==============================] - 1s 16ms/step - loss: 0.1053 - mae: 0.1053 - val_loss: 0.1054 - val_mae: 0.1054\n",
            "Epoch 50/50\n",
            "32/32 [==============================] - 1s 16ms/step - loss: 0.1053 - mae: 0.1053 - val_loss: 0.1054 - val_mae: 0.1054\n"
          ]
        },
        {
          "output_type": "execute_result",
          "data": {
            "text/plain": [
              "<keras.src.callbacks.History at 0x7d1b1050c4c0>"
            ]
          },
          "metadata": {},
          "execution_count": 7
        }
      ]
    },
    {
      "cell_type": "code",
      "source": [
        "X_train_new = model.reduce_dim_with_encoder(X_train)\n",
        "X_test_new = model.reduce_dim_with_encoder(X_test)"
      ],
      "metadata": {
        "id": "JQqU3FoBk8Xf"
      },
      "execution_count": 8,
      "outputs": []
    },
    {
      "cell_type": "code",
      "source": [
        "print(f'Shape of train data before: {X_train.shape}')\n",
        "print(f'Shape of train data after: {X_train_new.shape}')\n",
        "\n",
        "print(f'Shape of test data before: {X_test.shape}')\n",
        "print(f'Shape of test data after: {X_test_new.shape}')"
      ],
      "metadata": {
        "colab": {
          "base_uri": "https://localhost:8080/"
        },
        "id": "cfVl2zWFlyH1",
        "outputId": "fe57820a-2cbf-4b37-acdc-7e48177057bf"
      },
      "execution_count": 9,
      "outputs": [
        {
          "output_type": "stream",
          "name": "stdout",
          "text": [
            "Shape of train data before: (8000, 500)\n",
            "Shape of train data after: (8000, 10)\n",
            "Shape of test data before: (2000, 500)\n",
            "Shape of test data after: (2000, 10)\n"
          ]
        }
      ]
    },
    {
      "cell_type": "code",
      "source": [],
      "metadata": {
        "id": "gfMCA-wamP_E"
      },
      "execution_count": null,
      "outputs": []
    }
  ]
}